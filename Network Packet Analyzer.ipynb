{
 "cells": [
  {
   "cell_type": "code",
   "execution_count": 9,
   "id": "e8867c49",
   "metadata": {},
   "outputs": [
    {
     "name": "stderr",
     "output_type": "stream",
     "text": [
      "  error: subprocess-exited-with-error"
     ]
    },
    {
     "name": "stdout",
     "output_type": "stream",
     "text": [
      "Collecting pcapyNote: you may need to restart the kernel to use updated packages."
     ]
    },
    {
     "name": "stderr",
     "output_type": "stream",
     "text": [
      "\n"
     ]
    },
    {
     "name": "stdout",
     "output_type": "stream",
     "text": [
      "\n",
      "\n"
     ]
    },
    {
     "name": "stderr",
     "output_type": "stream",
     "text": [
      "  \n"
     ]
    },
    {
     "name": "stdout",
     "output_type": "stream",
     "text": [
      "  Downloading pcapy-0.11.4.tar.gz (37 kB)\n"
     ]
    },
    {
     "name": "stderr",
     "output_type": "stream",
     "text": [
      "  python setup.py egg_info did not run successfully."
     ]
    },
    {
     "name": "stdout",
     "output_type": "stream",
     "text": [
      "  Preparing metadata (setup.py): started"
     ]
    },
    {
     "name": "stderr",
     "output_type": "stream",
     "text": [
      "\n"
     ]
    },
    {
     "name": "stdout",
     "output_type": "stream",
     "text": [
      "\n"
     ]
    },
    {
     "name": "stderr",
     "output_type": "stream",
     "text": [
      "  exit code: 1\n"
     ]
    },
    {
     "name": "stdout",
     "output_type": "stream",
     "text": [
      "  Preparing metadata (setup.py): finished with status 'error'\n"
     ]
    },
    {
     "name": "stderr",
     "output_type": "stream",
     "text": [
      "  \n",
      "  [7 lines of output]\n",
      "  Traceback (most recent call last):\n",
      "    File \"<string>\", line 2, in <module>\n",
      "    File \"<pip-setuptools-caller>\", line 34, in <module>\n",
      "    File \"C:\\Users\\USER\\AppData\\Local\\Temp\\pip-install-467qfgse\\pcapy_20e9a0c660ed40e4b50ab707456236f0\\setup.py\", line 49, in <module>\n",
      "      save_init_posix = sysconfig._init_posix\n",
      "                        ^^^^^^^^^^^^^^^^^^^^^\n",
      "  AttributeError: module 'distutils.sysconfig' has no attribute '_init_posix'\n",
      "  [end of output]\n",
      "  \n",
      "  note: This error originates from a subprocess, and is likely not a problem with pip.\n",
      "error: metadata-generation-failed\n",
      "\n",
      "Encountered error while generating package metadata.\n",
      "\n",
      "See above for output.\n",
      "\n",
      "note: This is an issue with the package mentioned above, not pip.\n",
      "hint: See above for details.\n"
     ]
    }
   ],
   "source": [
    "pip install pcapy"
   ]
  },
  {
   "cell_type": "code",
   "execution_count": 4,
   "id": "91d3f582",
   "metadata": {},
   "outputs": [
    {
     "name": "stdout",
     "output_type": "stream",
     "text": [
      "Source IP: 192.168.29.7, Destination IP: 224.0.0.22, Protocol: 2, Payload: None\n",
      "Source IP: 192.168.29.80, Destination IP: 224.0.0.251, Protocol: 17, Payload: None\n",
      "Source IP: 192.168.29.54, Destination IP: 224.0.0.251, Protocol: 17, Payload: None\n",
      "Source IP: 192.168.29.80, Destination IP: 239.255.255.250, Protocol: 17, Payload: None\n",
      "Source IP: 192.168.29.7, Destination IP: 142.250.196.42, Protocol: 17, Payload: None\n",
      "Source IP: 142.250.196.42, Destination IP: 192.168.29.7, Protocol: 17, Payload: None\n",
      "Source IP: 192.168.29.80, Destination IP: 224.0.0.251, Protocol: 17, Payload: None\n",
      "Source IP: 192.168.29.54, Destination IP: 224.0.0.251, Protocol: 17, Payload: None\n",
      "Source IP: 192.168.29.80, Destination IP: 239.255.255.250, Protocol: 17, Payload: None\n",
      "Source IP: 142.250.195.67, Destination IP: 192.168.29.7, Protocol: 6, Payload: \n"
     ]
    },
    {
     "data": {
      "text/plain": [
       "<Sniffed: TCP:1 UDP:8 ICMP:0 Other:1>"
      ]
     },
     "execution_count": 4,
     "metadata": {},
     "output_type": "execute_result"
    }
   ],
   "source": [
    "from scapy.all import *\n",
    "\n",
    "def packet_sniffer(packet):\n",
    "    src_ip=packet[IP].src\n",
    "    dst_ip=packet[IP].dst\n",
    "    protocol=packet[IP].proto\n",
    "    payload = None\n",
    "    \n",
    "    # Check if the packet contains the TCP layer\n",
    "    if TCP in packet:\n",
    "        payload = packet[TCP].payload\n",
    "    \n",
    "    print(f\"Source IP: {src_ip}, Destination IP: {dst_ip}, Protocol: {protocol}, Payload: {payload}\")\n",
    "    \n",
    "sniff(filter=\"ip\",prn=packet_sniffer,count=10)\n"
   ]
  },
  {
   "cell_type": "code",
   "execution_count": null,
   "id": "61257a95",
   "metadata": {},
   "outputs": [],
   "source": []
  }
 ],
 "metadata": {
  "kernelspec": {
   "display_name": "Python 3 (ipykernel)",
   "language": "python",
   "name": "python3"
  },
  "language_info": {
   "codemirror_mode": {
    "name": "ipython",
    "version": 3
   },
   "file_extension": ".py",
   "mimetype": "text/x-python",
   "name": "python",
   "nbconvert_exporter": "python",
   "pygments_lexer": "ipython3",
   "version": "3.11.4"
  }
 },
 "nbformat": 4,
 "nbformat_minor": 5
}
